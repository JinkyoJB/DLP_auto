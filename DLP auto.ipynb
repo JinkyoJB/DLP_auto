{
 "cells": [
  {
   "cell_type": "code",
   "execution_count": 1,
   "id": "39206f39",
   "metadata": {},
   "outputs": [],
   "source": [
    "import serial"
   ]
  },
  {
   "cell_type": "code",
   "execution_count": 2,
   "id": "17f11f17",
   "metadata": {},
   "outputs": [],
   "source": [
    "import time"
   ]
  },
  {
   "cell_type": "code",
   "execution_count": 19,
   "id": "c810b98b",
   "metadata": {},
   "outputs": [],
   "source": [
    "ser = serial.Serial('COM16', 9600)\n",
    "time.sleep(2)\n"
   ]
  },
  {
   "cell_type": "code",
   "execution_count": null,
   "id": "47d56867",
   "metadata": {},
   "outputs": [],
   "source": [
    "ser.write(b'8,1,3200')"
   ]
  },
  {
   "cell_type": "code",
   "execution_count": 28,
   "id": "98de3dd4",
   "metadata": {
    "scrolled": true
   },
   "outputs": [],
   "source": [
    "ser = serial.Serial('COM3', 9600)"
   ]
  },
  {
   "cell_type": "code",
   "execution_count": 24,
   "id": "510460f2",
   "metadata": {},
   "outputs": [],
   "source": [
    "txt = '7'"
   ]
  },
  {
   "cell_type": "code",
   "execution_count": 10,
   "id": "ec8c8e19",
   "metadata": {},
   "outputs": [
    {
     "data": {
      "text/plain": [
       "str"
      ]
     },
     "execution_count": 10,
     "metadata": {},
     "output_type": "execute_result"
    }
   ],
   "source": [
    "type(txt)"
   ]
  },
  {
   "cell_type": "code",
   "execution_count": 25,
   "id": "a5b8d7c7",
   "metadata": {},
   "outputs": [],
   "source": [
    "c=txt.encode()"
   ]
  },
  {
   "cell_type": "code",
   "execution_count": 12,
   "id": "767a3a3c",
   "metadata": {},
   "outputs": [
    {
     "data": {
      "text/plain": [
       "bytes"
      ]
     },
     "execution_count": 12,
     "metadata": {},
     "output_type": "execute_result"
    }
   ],
   "source": [
    "type(c)"
   ]
  },
  {
   "cell_type": "code",
   "execution_count": 32,
   "id": "358aeca4",
   "metadata": {},
   "outputs": [
    {
     "data": {
      "text/plain": [
       "3"
      ]
     },
     "execution_count": 32,
     "metadata": {},
     "output_type": "execute_result"
    }
   ],
   "source": [
    "ser.write('7\\r\\n'.encode())"
   ]
  },
  {
   "cell_type": "code",
   "execution_count": 27,
   "id": "7350fd37",
   "metadata": {},
   "outputs": [],
   "source": [
    "ser.close();"
   ]
  },
  {
   "cell_type": "code",
   "execution_count": null,
   "id": "0a2e7353",
   "metadata": {},
   "outputs": [],
   "source": [
    "obj = ser.readline()\n",
    "print(obj)"
   ]
  },
  {
   "cell_type": "code",
   "execution_count": null,
   "id": "a4099354",
   "metadata": {},
   "outputs": [],
   "source": [
    "c=ser.read(1)\n",
    "s=c.decode()\n",
    "print(s)"
   ]
  },
  {
   "cell_type": "code",
   "execution_count": null,
   "id": "ef1f4e99",
   "metadata": {},
   "outputs": [],
   "source": [
    "c=ser.read(16)\n",
    "print(c)"
   ]
  }
 ],
 "metadata": {
  "kernelspec": {
   "display_name": "Python 3",
   "language": "python",
   "name": "python3"
  },
  "language_info": {
   "codemirror_mode": {
    "name": "ipython",
    "version": 3
   },
   "file_extension": ".py",
   "mimetype": "text/x-python",
   "name": "python",
   "nbconvert_exporter": "python",
   "pygments_lexer": "ipython3",
   "version": "3.8.8"
  }
 },
 "nbformat": 4,
 "nbformat_minor": 5
}
