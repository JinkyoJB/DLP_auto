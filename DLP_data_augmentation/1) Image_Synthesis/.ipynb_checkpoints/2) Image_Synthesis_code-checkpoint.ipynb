{
 "cells": [
  {
   "cell_type": "code",
   "execution_count": null,
   "id": "c49c5e6d",
   "metadata": {},
   "outputs": [],
   "source": [
    "import shutil"
   ]
  },
  {
   "cell_type": "code",
   "execution_count": null,
   "id": "bac266be",
   "metadata": {},
   "outputs": [],
   "source": [
    "import cv2\n",
    "import numpy as np\n",
    "import matplotlib.pylab as plt\n",
    "import os"
   ]
  },
  {
   "cell_type": "code",
   "execution_count": null,
   "id": "ba0664fc",
   "metadata": {},
   "outputs": [],
   "source": [
    "#normal이미지가 담겨있는 경로\n",
    "file_dir = 'C:/coding/DLP_auto/DLP_dataset/'"
   ]
  },
  {
   "cell_type": "code",
   "execution_count": null,
   "id": "60ece471",
   "metadata": {},
   "outputs": [],
   "source": [
    "#normal 이미지를 'normal_list'에 담기\n",
    "normal_list= []\n",
    "for (path,dirs,files) in os.walk(file_dir):\n",
    "    for file in files:\n",
    "        #print(file)\n",
    "        img = cv2.imread(file_dir+ file)\n",
    "        normal_list.append(img)"
   ]
  },
  {
   "cell_type": "code",
   "execution_count": null,
   "id": "5d401d31",
   "metadata": {},
   "outputs": [],
   "source": [
    "#normal 이미지 저장확인\n",
    "\n",
    "for bg_img in normal_list:\n",
    "    print(bg_img.shape)"
   ]
  },
  {
   "cell_type": "code",
   "execution_count": null,
   "id": "d9743a1d",
   "metadata": {},
   "outputs": [],
   "source": [
    "#defect 이미지 저장\n",
    "\n",
    "defect1=cv2.imread('C:/coding/DLP_auto/DLP_auto_git/DLP_data_augmentation/1) Image_Synthesis/1) extracted defect images/minor_defect_sc1.jpg')\n",
    "defect2=cv2.imread('C:/coding/DLP_auto/DLP_auto_git/DLP_data_augmentation/1) Image_Synthesis/1) extracted defect images/minor_defect_sc2.png')\n",
    "defect3=cv2.imread('C:/coding/DLP_auto/DLP_auto_git/DLP_data_augmentation/1) Image_Synthesis/1) extracted defect images/minor_defect_sc3.jpg')\n",
    "defect4=cv2.imread('C:/coding/DLP_auto/DLP_auto_git/DLP_data_augmentation/1) Image_Synthesis/1) extracted defect images/minor_defect_sc4.jpg')\n",
    "defect_list = [defect1,defect2,defect3,defect4]"
   ]
  },
  {
   "cell_type": "code",
   "execution_count": null,
   "id": "4e74c04c",
   "metadata": {
    "scrolled": true
   },
   "outputs": [],
   "source": [
    "#defect 이미지 저장확인\n",
    "\n",
    "for i in defect_list:\n",
    "    print(i.shape)\n",
    "    row,col,rgb = i.shape"
   ]
  },
  {
   "cell_type": "code",
   "execution_count": null,
   "id": "7eb2ab64",
   "metadata": {},
   "outputs": [],
   "source": [
    "r_defect2 = cv2.rotate(defect2, cv2.ROTATE_180)"
   ]
  },
  {
   "cell_type": "code",
   "execution_count": null,
   "id": "68caa40d",
   "metadata": {},
   "outputs": [],
   "source": [
    "# defect2 이미지 확인용 코드\n",
    "cv2.imshow('img', r_defect2)\n",
    "cv2.waitKey(0)"
   ]
  },
  {
   "cell_type": "code",
   "execution_count": null,
   "id": "4f2567e3",
   "metadata": {},
   "outputs": [],
   "source": [
    "#normal + defect1 합성 : defect 가로위치 고정, 세로 랜덤\n",
    "\n",
    "for i, bg_img in enumerate(normal_list):\n",
    "    row,col,rgb = defect1.shape\n",
    "    print(i)\n",
    "    rand_num = np.random.randint(low=50, high=480)\n",
    "    bg_img[rand_num:rand_num+row,17:col+17] = defect1\n",
    "    cv2.imwrite(f'C:/coding/DLP_auto/augmentation/synthesis_img/{i}.jpg', r_defect2)"
   ]
  },
  {
   "cell_type": "code",
   "execution_count": null,
   "id": "9c9d173d",
   "metadata": {},
   "outputs": [],
   "source": [
    "#normal + defect2 합성 : defect 크기 랜덤, 위치 랜덤"
   ]
  },
  {
   "cell_type": "code",
   "execution_count": null,
   "id": "62f59152",
   "metadata": {},
   "outputs": [],
   "source": [
    "# defect2 이미지 확인용 코드\n",
    "cv2.imshow('img', defect2)\n",
    "cv2.waitKey(0)"
   ]
  },
  {
   "cell_type": "code",
   "execution_count": null,
   "id": "942b9074",
   "metadata": {},
   "outputs": [],
   "source": [
    "cv2.imwrite(f'C:/coding/DLP_auto/augmentation/minor_defect_sc2_r.jpg', r_defect2)"
   ]
  },
  {
   "cell_type": "code",
   "execution_count": null,
   "id": "8996f0f2",
   "metadata": {},
   "outputs": [],
   "source": [
    "r_defect2 = cv2.imread('C:/coding/DLP_auto/augmentation/minor_defect_sc2_r.jpg')"
   ]
  },
  {
   "cell_type": "code",
   "execution_count": null,
   "id": "4b329c06",
   "metadata": {},
   "outputs": [],
   "source": [
    "# normal이미지 +  defect2 랜덤 합성\n",
    "\n",
    "for i, bg_img in enumerate(normal_list):\n",
    "    \n",
    "    #소수점 0.* 난수생성\n",
    "    rand_sz = round(np.random.uniform(low=0.6, high=1),1)\n",
    "    # defect2 크기 랜덤 수축\n",
    "    rand_shrink_df2 = cv2.resize(r_defect2, None, fx=rand_sz, fy=rand_sz, interpolation=cv2.INTER_AREA)\n",
    "    row,col,rgb = rand_shrink_df2.shape\n",
    "    \n",
    "    rand_num1 = np.random.randint(low=150, high=350)\n",
    "    rand_num2 = np.random.randint(low=150, high=350)\n",
    "    bg_img[rand_num1:rand_num1+row,rand_num2:col+rand_num2] = rand_shrink_df2\n",
    "    cv2.imwrite(f'C:/coding/DLP_auto/augmentation/synthesis_img_defect2_r/{i}-{rand_sz}.jpg', bg_img)\n"
   ]
  },
  {
   "cell_type": "code",
   "execution_count": null,
   "id": "4bb33791",
   "metadata": {},
   "outputs": [],
   "source": [
    "# normal이미지 +  defect3 랜덤 합성\n",
    "\n",
    "for i, bg_img in enumerate(normal_list):\n",
    "    \n",
    "    #소수점 0.* 난수생성\n",
    "    rand_sz = round(np.random.uniform(low=0.5, high=1),1)\n",
    "    # defect3 크기 랜덤 수축\n",
    "    rand_shrink_df3 = cv2.resize(defect3, None, fx=rand_sz, fy=rand_sz, interpolation=cv2.INTER_AREA)\n",
    "    row,col,rgb = rand_shrink_df3.shape\n",
    "    \n",
    "    rand_num1 = np.random.randint(low=150, high=350)\n",
    "    rand_num2 = np.random.randint(low=150, high=350)\n",
    "    bg_img[rand_num1:rand_num1+row,rand_num2:col+rand_num2] = rand_shrink_df3\n",
    "    cv2.imwrite(f'C:/coding/DLP_auto/augmentation/synthesis_img_defect3/{i}-{rand_sz}.jpg', bg_img)"
   ]
  },
  {
   "cell_type": "code",
   "execution_count": null,
   "id": "426b40af",
   "metadata": {},
   "outputs": [],
   "source": [
    "# normal이미지 +  defect4 랜덤 합성\n",
    "\n",
    "for i, bg_img in enumerate(normal_list):\n",
    "    \n",
    "    #소수점 0.* 난수생성\n",
    "    rand_sz = round(np.random.uniform(low=0.5, high=1),1)\n",
    "    # defect3 크기 랜덤 수축\n",
    "    rand_shrink_df4 = cv2.resize(defect4, None, fx=rand_sz, fy=rand_sz, interpolation=cv2.INTER_AREA)\n",
    "    row,col,rgb = rand_shrink_df4.shape\n",
    "    \n",
    "    rand_num1 = np.random.randint(low=150, high=350)\n",
    "    rand_num2 = np.random.randint(low=150, high=350)\n",
    "    bg_img[rand_num1:rand_num1+row,rand_num2:col+rand_num2] = rand_shrink_df4\n",
    "    cv2.imwrite(f'C:/coding/DLP_auto/augmentation/synthesis_img_defect4/{i}-{rand_sz}.jpg', bg_img)"
   ]
  },
  {
   "cell_type": "code",
   "execution_count": null,
   "id": "801c8587",
   "metadata": {},
   "outputs": [],
   "source": [
    "# 파일 정리용 코드\n",
    "\n",
    "for (path,dirs,files) in os.walk(file_dir):\n",
    "    for file in files:\n",
    "        if 'pore' in file:\n",
    "            shutil.move(file_dir+file,'C:/coding/DLP_auto/DLP_dataset/pore'+'/'+file)\n",
    "        else: pass"
   ]
  },
  {
   "cell_type": "code",
   "execution_count": null,
   "id": "a91a8bcc",
   "metadata": {},
   "outputs": [],
   "source": [
    "# 합성사진개수 확인용 코드\n",
    "\n",
    "cri = 1276\n",
    "error = 224\n",
    "minor = 538 +200 +150 + 200+200\n",
    "normal = 1500\n",
    "pore = 1208\n",
    "\n",
    "total = cri+error+minor+normal+pore\n",
    "print(minor)\n",
    "print(total/8)"
   ]
  },
  {
   "cell_type": "code",
   "execution_count": null,
   "id": "434b9113",
   "metadata": {},
   "outputs": [],
   "source": [
    "#UD있으면 폴더이동\n",
    "\n",
    "for (path,dirs,files) in os.walk('C:/coding/DLP_auto/DLP_dataset/pore_1836/'):\n",
    "    for file in files:\n",
    "        #print(file)\n",
    "        if 'UD' in file:\n",
    "            shutil.move('C:/coding/DLP_auto/DLP_dataset/pore_1836/'+file,'C:/coding/DLP_auto/DLP_dataset/extra_pore/'+file)\n",
    "\n"
   ]
  },
  {
   "cell_type": "code",
   "execution_count": null,
   "id": "6808d96b",
   "metadata": {},
   "outputs": [],
   "source": []
  }
 ],
 "metadata": {
  "kernelspec": {
   "display_name": "dlp37",
   "language": "python",
   "name": "dlp37"
  },
  "language_info": {
   "codemirror_mode": {
    "name": "ipython",
    "version": 3
   },
   "file_extension": ".py",
   "mimetype": "text/x-python",
   "name": "python",
   "nbconvert_exporter": "python",
   "pygments_lexer": "ipython3",
   "version": "3.7.13"
  },
  "toc": {
   "base_numbering": 1,
   "nav_menu": {},
   "number_sections": true,
   "sideBar": true,
   "skip_h1_title": false,
   "title_cell": "Table of Contents",
   "title_sidebar": "Contents",
   "toc_cell": false,
   "toc_position": {},
   "toc_section_display": true,
   "toc_window_display": false
  }
 },
 "nbformat": 4,
 "nbformat_minor": 5
}
