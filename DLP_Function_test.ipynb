{
 "cells": [
  {
   "cell_type": "code",
   "execution_count": null,
   "id": "76b63fd8",
   "metadata": {},
   "outputs": [],
   "source": [
    "#필요한 라이브러리를 import합니다.\n",
    "\n",
    "#매크로와 알림창을 위한 pyautogui\n",
    "import pyautogui as pag\n",
    "\n",
    "#아두이노와 시리얼 통신을 위한 serial\n",
    "import serial\n",
    "\n",
    "#시간간격을 두고 함수를 시행하기 위한 time\n",
    "import time\n",
    "\n",
    "#강제종료 등 프로그램 명령어 sys\n",
    "import sys\n",
    "\n",
    "#시리얼 통신 용 threading\n",
    "import threading\n",
    "\n",
    "#프로그램 자동실행을 위한  pywinauto \n",
    "import pywinauto "
   ]
  },
  {
   "cell_type": "code",
   "execution_count": null,
   "id": "dc0ac9ba",
   "metadata": {},
   "outputs": [],
   "source": [
    "#함수1. 아두이노와 시리얼 통신을 위한 함수, 통신대기 2초\n",
    "def serial16():\n",
    "    try:\n",
    "        global ser16\n",
    "        ser16 = serial.Serial('COM16', 9600)\n",
    "        time.sleep(2)\n",
    "        return \"com16과 시리얼통신 성공\"\n",
    "    except serial.SerialException as e:\n",
    "        print(e)"
   ]
  },
  {
   "cell_type": "code",
   "execution_count": null,
   "id": "780fbc0b",
   "metadata": {},
   "outputs": [],
   "source": [
    "#함수1-1. -첫 layer- z축 리미트센서 터치(0,0,1)\n",
    "def zhoming(ser, exitcode='*'):\n",
    "    try:\n",
    "        print(ser.write(b'0,0,1'))\n",
    "        list = []\n",
    "        while True:\n",
    "            data = ser.read().decode('utf-8')\n",
    "            print(ser.readline().decode('utf-8'))\n",
    "            list.append(data)\n",
    "            if exitcode in list:\n",
    "                return print(\"done\")\n",
    "            list.clear\n",
    "            print(list)\n",
    "    except:\n",
    "        print(\"zhoming error\")"
   ]
  },
  {
   "cell_type": "code",
   "execution_count": null,
   "id": "4633264c",
   "metadata": {},
   "outputs": [],
   "source": [
    "#함수1-2. z축 블레이드 날이 닿는 위치로 이동(0,1,1)\n",
    "def zgoing(ser, exitcode='*'):\n",
    "    try:\n",
    "        print(ser.write(b'0,0,2'))\n",
    "        list = []\n",
    "        while True:\n",
    "            data = ser.read().decode('utf-8')\n",
    "            print(ser.readline().decode('utf-8'))\n",
    "            list.append(data)\n",
    "            if exitcode in list:\n",
    "                return print(\"done\")\n",
    "            list.clear\n",
    "            print(list)\n",
    "    except:\n",
    "        print(\"zgoing error\")"
   ]
  },
  {
   "cell_type": "code",
   "execution_count": null,
   "id": "54de3d9c",
   "metadata": {},
   "outputs": [],
   "source": [
    "#함수1-3. 닿은 위치에서 일정거리 내리기(8,0,8000) --> 6mm\n",
    "def littledown(ser, exitcode='*'):\n",
    "    try:\n",
    "        print(ser.write(b'8,0,7000'))\n",
    "        list = []\n",
    "        while True:\n",
    "            data = ser.read().decode('utf-8')\n",
    "            print(ser.readline().decode('utf-8'))\n",
    "            list.append(data)\n",
    "            if exitcode in list:\n",
    "                return print(\"done\")\n",
    "            list.clear\n",
    "            print(list)\n",
    "    except:\n",
    "        print(\"littledown error\")"
   ]
  },
  {
   "cell_type": "code",
   "execution_count": null,
   "id": "8219266f",
   "metadata": {},
   "outputs": [],
   "source": [
    "#함수1-3.5. 닿은 위치에서 일정거리 내리기(8,0,8065) --> 10mm +0.1mm (서포트용)\n",
    "def thcickdown1(ser, exitcode='*'):\n",
    "    try:\n",
    "        print(ser.write(b'8,0,7080'))\n",
    "        list = []\n",
    "        while True:\n",
    "            data = ser.read().decode('utf-8')\n",
    "            print(ser.readline().decode('utf-8'))\n",
    "            list.append(data)\n",
    "            if exitcode in list:\n",
    "                list.clear\n",
    "                print(list)\n",
    "                return print(\"done\")\n",
    "    except:\n",
    "        print(\"thcickdown error\")"
   ]
  },
  {
   "cell_type": "code",
   "execution_count": null,
   "id": "842ed5ec",
   "metadata": {},
   "outputs": [],
   "source": [
    "#함수1-3.55. 닿은 위치에서 일정거리 내리기(8,0,8048) -->10mm +0.06mm (시편 출력용)\n",
    "def thcickdown2(ser, exitcode='*'):\n",
    "    try:\n",
    "        print(ser.write(b'8,0,7048'))\n",
    "        list = []\n",
    "        while True:\n",
    "            data = ser.read().decode('utf-8')\n",
    "            print(ser.readline().decode('utf-8'))\n",
    "            list.append(data)\n",
    "            if exitcode in list:\n",
    "                return print(\"done\")\n",
    "            list.clear\n",
    "            print(list)\n",
    "    except:\n",
    "        print(\"thcickdown error\")\n"
   ]
  },
  {
   "cell_type": "code",
   "execution_count": null,
   "id": "5fb39425",
   "metadata": {},
   "outputs": [],
   "source": [
    "#함수1-4. 블레이드 앞위치로 위치(0,1,1)\n",
    "def bhoming(ser, exitcode='*'):\n",
    "    try:\n",
    "        print(ser.write(b'0,1,1'))\n",
    "        list = []\n",
    "        while True:\n",
    "            data = ser.read().decode('utf-8')\n",
    "            print(ser.readline().decode('utf-8'))\n",
    "            list.append(data)\n",
    "            if exitcode in list:\n",
    "                return \n",
    "            list.clear\n",
    "            print(list)\n",
    "    except:\n",
    "        print(\"bhoming error\")"
   ]
  },
  {
   "cell_type": "code",
   "execution_count": null,
   "id": "b43d89c3",
   "metadata": {},
   "outputs": [],
   "source": [
    "#함수1-5. 블레이드 (7,0,8000) -->블레이드10mm 뒤로 이동\n",
    "def littleback(ser, exitcode='*'):\n",
    "    try:\n",
    "        print(ser.write(b'7,0,7000'))\n",
    "        list = []\n",
    "        while True:\n",
    "            data = ser.read().decode('utf-8')\n",
    "            print(ser.readline().decode('utf-8'))\n",
    "            list.append(data)\n",
    "            if exitcode in list:\n",
    "                return print(\"done\")\n",
    "            list.clear\n",
    "            print(list)\n",
    "    except:\n",
    "        print(\"little back error\")"
   ]
  },
  {
   "cell_type": "code",
   "execution_count": null,
   "id": "179998b1",
   "metadata": {},
   "outputs": [],
   "source": [
    "#함수1-6. 시료주입\n",
    "def resinshot(ser, exitcode='*'):\n",
    "    try:\n",
    "        print(ser.write(b'2,2,2'))\n",
    "        list = []\n",
    "        while True:\n",
    "            data = ser.read().decode('utf-8')\n",
    "            print(ser.readline().decode('utf-8'))\n",
    "            list.append(data)\n",
    "            if exitcode in list:\n",
    "                return print(\"done\")\n",
    "            list.clear\n",
    "            print(list)\n",
    "    except:\n",
    "        print(\"resin shot error\")"
   ]
  },
  {
   "cell_type": "code",
   "execution_count": null,
   "id": "64c667b2",
   "metadata": {},
   "outputs": [],
   "source": [
    "#함수1-8. 닿은 위치로 일정거리 올리기(8,1,4800) --> 6mm\n",
    "def littleup(ser, exitcode='*'):\n",
    "    try:\n",
    "        print(ser.write(b'8,1,7000'))\n",
    "        list = []\n",
    "        while True:\n",
    "            data = ser.read().decode('utf-8')\n",
    "            print(ser.readline().decode('utf-8'))\n",
    "            list.append(data)\n",
    "            if exitcode in list:\n",
    "                return print(\"done\")\n",
    "            list.clear\n",
    "            print(list)\n",
    "    except:\n",
    "        print(\"blading error\")"
   ]
  },
  {
   "cell_type": "code",
   "execution_count": null,
   "id": "66d8ba45",
   "metadata": {},
   "outputs": [],
   "source": [
    "\n",
    "#함수1-9. 블레이딩(0,1,2)\n",
    "def bgoing(ser, exitcode='*'):\n",
    "    try:\n",
    "        print(ser.write(b'0,1,2'))\n",
    "        list = []\n",
    "        while True:\n",
    "            data = ser.read().decode('utf-8')\n",
    "            print(ser.readline().decode('utf-8'))\n",
    "            list.append(data)\n",
    "            if exitcode in list:\n",
    "                return print(\"done\")\n",
    "            list.clear\n",
    "            print(list)\n",
    "\n",
    "    except:\n",
    "        print(\"blading error\")"
   ]
  },
  {
   "cell_type": "code",
   "execution_count": null,
   "id": "d65df1de",
   "metadata": {},
   "outputs": [],
   "source": [
    "#함수2-1. 어플키고 사진찍기(매크로)\n",
    "def picture():\n",
    "    try:\n",
    "        pag.moveTo(1825, 820)\n",
    "        time.sleep(1)\n",
    "        pag.dragTo(x=1, y=1, duration=0.3)\n",
    "        time.sleep(1)\n",
    "        pag.doubleClick(x=1635, y=800)\n",
    "        print(\"capture\")\n",
    "    except:\n",
    "        print(\"error\")"
   ]
  },
  {
   "cell_type": "code",
   "execution_count": null,
   "id": "e9941197",
   "metadata": {},
   "outputs": [],
   "source": [
    "#함수3-1 ok--광경화  // not ok -- 3번으로 돌아가기\n",
    "def photo():\n",
    "    try:\n",
    "        sel = pag.confirm(text=\"광조사 가능한 상태?\", title=\"확인\", buttons=['ok','nob'])\n",
    "        if sel == 'ok':\n",
    "            serial3()\n",
    "            ser3.write('7\\r\\n'.encode())\n",
    "            time.sleep(1)\n",
    "            ser3.close()\n",
    "            time.sleep(1)\n",
    "            serial16()\n",
    "        elif sel == 'nob':\n",
    "            print(\"안타깝군요\")\n",
    "\n",
    "\n",
    "            \n",
    "    except:\n",
    "        print(\"photo error\")\n"
   ]
  },
  {
   "cell_type": "code",
   "execution_count": null,
   "id": "196e079f",
   "metadata": {},
   "outputs": [],
   "source": [
    "#함수3. com3연결\n",
    "def serial3():\n",
    "    global ser3\n",
    "    try:\n",
    "        ser3 = serial.Serial('COM3', 9600)\n",
    "        time.sleep(2)\n",
    "        return \"com3과 시리얼통신 성공\"\n",
    "    except:\n",
    "        print(\"please check if ser16 still connected\")\n"
   ]
  },
  {
   "cell_type": "code",
   "execution_count": null,
   "id": "c4d49349",
   "metadata": {},
   "outputs": [],
   "source": [
    "def close3():\n",
    "    ser3.close()"
   ]
  },
  {
   "cell_type": "code",
   "execution_count": null,
   "id": "5e90b939",
   "metadata": {},
   "outputs": [],
   "source": [
    "def close16():\n",
    "    ser16.close()"
   ]
  },
  {
   "cell_type": "code",
   "execution_count": null,
   "id": "f57c5e6a",
   "metadata": {},
   "outputs": [],
   "source": [
    "def openapp():\n",
    "    app = pywinauto.Application(backend='uia').start(\"C:\\Program Files (x86)\\Mirroid\\Mirroid.exe\")\n"
   ]
  },
  {
   "cell_type": "code",
   "execution_count": null,
   "id": "f381b9a2",
   "metadata": {},
   "outputs": [],
   "source": [
    "def cleaning():\n",
    "    value = pag.prompt(text='청소하시게요? 얼마나 내릴까요?', title='cleaning', default='please input')\n",
    "    value = float(value)/1\n",
    "    down = f'8,0,{value}'\n",
    "    down = down.encode('utf-8')\n",
    "    up = f'8,1,{value}'\n",
    "    up = up.encode('utf-8')\n",
    "    print(ser16.write(down))\n",
    "    com = pag.alert(text='청소완료?', title='청소완료?', button='OK')\n",
    "    if com == 'OK':\n",
    "        print(ser16.write(up))"
   ]
  },
  {
   "cell_type": "code",
   "execution_count": null,
   "id": "2951a6f2",
   "metadata": {},
   "outputs": [],
   "source": [
    "def suppoter(n):\n",
    "    i=1\n",
    "    while i<=n:\n",
    "        thcickdown1(ser16) #서포터 층(0.1mm만큼 더 내리기)\n",
    "        time.sleep(15)\n",
    "        bhoming(ser16) #블레이드 호밍\n",
    "        littleup(ser16) #베드가 날에 닿기\n",
    "        bgoing(ser16) #블레이딩\n",
    "        picture() #블레이딩 상태 촬영\n",
    "        photo() #광 조사 또는 재블레이딩\n",
    "        print(i, \"번째 층 출력완료했습니다.\")\n",
    "        time.sleep(15)\n",
    "        i+=1"
   ]
  },
  {
   "cell_type": "code",
   "execution_count": null,
   "id": "93a2f34f",
   "metadata": {},
   "outputs": [],
   "source": [
    "def specimen(n):\n",
    "    i=1\n",
    "    while i<= n:\n",
    "        thcickdown2(ser16) #시편층(0.05mm 만큼 더 내리기)\n",
    "        time.sleep(15)\n",
    "        resinshot(ser16) #시료 주사\n",
    "        bhoming(ser16) #블레이드 호밍\n",
    "        littleup(ser16) #베드가 날에 닿기\n",
    "        bgoing(ser16) #블레이딩\n",
    "        picture() #블레이딩 상태 촬영\n",
    "        photo() #광 조사 또는 재블레이딩\n",
    "        print(i, \"번째 층 출력완료했습니다.\")\n",
    "        i+=1"
   ]
  }
 ],
 "metadata": {
  "kernelspec": {
   "display_name": "Python 3",
   "language": "python",
   "name": "python3"
  },
  "language_info": {
   "codemirror_mode": {
    "name": "ipython",
    "version": 3
   },
   "file_extension": ".py",
   "mimetype": "text/x-python",
   "name": "python",
   "nbconvert_exporter": "python",
   "pygments_lexer": "ipython3",
   "version": "3.8.8"
  }
 },
 "nbformat": 4,
 "nbformat_minor": 5
}
