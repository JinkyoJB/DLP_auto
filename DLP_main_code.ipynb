{
 "cells": [
  {
   "cell_type": "markdown",
   "id": "51e630b3",
   "metadata": {},
   "source": [
    "-첫 layer-\n",
    "\n",
    "1. serial16 연결\n",
    "1-1. z축 리미트센서 터치(0,0,1)\n",
    "1-2. z축 블레이드 날이 닿는 위치로 이동(0,1,1)\n",
    "1-3. 닿은 위치에서 일정거리 내리기(8,0,4800) --> 6mm\n",
    "1-4. 블레이드 앞위치로 위치(0,1,1)\n",
    "1-5. 블레이드 (7,0,8000) -->블레이드10mm 뒤로 이동\n",
    "1-6. 시료주입\n",
    "1-7. 블레이드 앞위치로 위치(0,1,1)\n",
    "1-8. 닿은 위치로 일정거리 올리기(8,1,4800) --> 6mm\n",
    "1-9. 블레이딩(0,1,2)\n",
    "2-1. 사진찍기(매크로)\n",
    "2-2. 상태확인 메세지\n",
    "3. com3연결\n",
    "3-1 ok--광경화  // not ok -- 3번으로 돌아가기\n",
    "\n",
    "-다음 레이어-\n",
    "\n",
    "1. serial16 연결\n",
    "1-1. 닿은 위치에서 '일정거리 + 경화두께(48step, 0.06mm)' 내리기(8,0,4848) --> 6.06mm\n",
    "1-2. 블레이드 앞위치로 위치(0,1,1)\n",
    "1-3. 블레이드 (7,0,8000) -->블레이드10mm 뒤로 이동\n",
    "1-4. 시료주입\n",
    "1-5. 블레이드 앞위치로 위치(0,1,1)\n",
    "1-6. 닿은 위치로 일정거리 올리기(8,1,4800) --> 6mm\n",
    "1-7. 블레이딩(0,1,2)\n",
    "2-1. 사진찍기(매크로)\n",
    "2-2. 상태확인 메세지\n",
    "3. com3연결\n",
    "3-1. ok--광경화  // not ok -- 3번으로 돌아가기"
   ]
  },
  {
   "cell_type": "code",
   "execution_count": null,
   "id": "bc3ed03d",
   "metadata": {},
   "outputs": [],
   "source": [
    "#필요한 라이브러리를 import합니다.\n",
    "\n",
    "#매크로와 알림창을 위한 pyautogui\n",
    "import pyautogui as pag\n",
    "\n",
    "#아두이노와 시리얼 통신을 위한 serial\n",
    "import serial\n",
    "\n",
    "#시간간격을 두고 함수를 시행하기 위한 time\n",
    "import time\n",
    "\n",
    "#강제종료 등 프로그램 명령어 sys\n",
    "import sys\n",
    "\n",
    "#시리얼 통신 용 threading\n",
    "import threading\n",
    "\n",
    "#프로그램 자동실행을 위한  pywinauto \n",
    "import pywinauto \n",
    "\n",
    "#커스텀 함수 import as cf\n",
    "from DLP_Function import * "
   ]
  },
  {
   "cell_type": "code",
   "execution_count": null,
   "id": "fe38540a",
   "metadata": {},
   "outputs": [],
   "source": [
    "#app = pywinauto.Application(backend='win32').start(\"notepad.exe\")\n",
    "#date = time.strftime('%Y-%m-%d', time.localtime(time.time()))\n",
    "#app[\"제목 없음 - 메모장\"].Edit.type_keys(f\"\\n{date}\",with_spaces = True)\n",
    "#layerLog=[]\n",
    "#app[\"제목 없음 - 메모장\"].Edit.type_keys(f\"\\n{layerLog}\",with_spaces = True)"
   ]
  },
  {
   "cell_type": "code",
   "execution_count": null,
   "id": "2326363f",
   "metadata": {},
   "outputs": [],
   "source": [
    "#log()"
   ]
  },
  {
   "cell_type": "code",
   "execution_count": null,
   "id": "78425c72",
   "metadata": {},
   "outputs": [],
   "source": [
    "#함수사진찍기(매크로) test용 코드\n",
    "#pag.alert(text=\"핸드폰이 연결된 것을 확인하셨나요?, mirroroid는 켜져있나요?\",title=\"핸드폰연결확인\",button=\"ok button\")\n",
    "#subprocess.call(\"C:\\Program Files (x86)\\Mirroid\\Mirroid.exe\")\n",
    "#time.sleep(15)\n",
    "#im2 = pag.screenshot('my_region2.png', region=(1612, 791, 1669, 845))\n",
    "#x, y = pag.position()\n",
    "#print(x, y)\n",
    "#icon = pag.locateOnScreen('my_region2.png')\n",
    "#print(icon)\n",
    "#pag.click(x=1635, y=800)\n",
    "#x, y = pag.position()\n",
    "#print(x, y)"
   ]
  },
  {
   "cell_type": "code",
   "execution_count": null,
   "id": "c6ac8de3",
   "metadata": {},
   "outputs": [],
   "source": [
    "# -초기화 및  1layer-\n",
    "serial16()"
   ]
  },
  {
   "cell_type": "code",
   "execution_count": null,
   "id": "392e8d4d",
   "metadata": {},
   "outputs": [],
   "source": [
    "first()"
   ]
  },
  {
   "cell_type": "code",
   "execution_count": null,
   "id": "7c5c777f",
   "metadata": {},
   "outputs": [],
   "source": [
    "# -서포터층-\n",
    "suppoter(3)"
   ]
  },
  {
   "cell_type": "code",
   "execution_count": null,
   "id": "b5421bab",
   "metadata": {},
   "outputs": [],
   "source": [
    "# -시편층-\n",
    "specimen(1)"
   ]
  },
  {
   "cell_type": "code",
   "execution_count": null,
   "id": "e9616868",
   "metadata": {},
   "outputs": [],
   "source": [
    "# -사진2번쏘는 시편층-\n",
    "specimen2(5)"
   ]
  },
  {
   "cell_type": "code",
   "execution_count": null,
   "id": "35604bfb",
   "metadata": {},
   "outputs": [],
   "source": [
    "#일정거리 내렸다 올리기\n",
    "cleaning()"
   ]
  },
  {
   "cell_type": "code",
   "execution_count": null,
   "id": "71caf5bd",
   "metadata": {},
   "outputs": [],
   "source": [
    "thcickdown2(ser16) #시편층(0.05mm 만큼 더 내리기)"
   ]
  },
  {
   "cell_type": "code",
   "execution_count": null,
   "id": "b524d562",
   "metadata": {},
   "outputs": [],
   "source": [
    "time.sleep(2)"
   ]
  },
  {
   "cell_type": "code",
   "execution_count": null,
   "id": "d76f0f13",
   "metadata": {},
   "outputs": [],
   "source": [
    "resinMS(ser16) #시료 주사"
   ]
  },
  {
   "cell_type": "code",
   "execution_count": null,
   "id": "4f574166",
   "metadata": {},
   "outputs": [],
   "source": [
    "bhoming(ser16) #블레이드 호밍"
   ]
  },
  {
   "cell_type": "code",
   "execution_count": null,
   "id": "59dc6f6b",
   "metadata": {},
   "outputs": [],
   "source": [
    "littleup(ser16) #베드가 날에 닿기"
   ]
  },
  {
   "cell_type": "code",
   "execution_count": null,
   "id": "1ee0ce4e",
   "metadata": {},
   "outputs": [],
   "source": [
    "bgoing(ser16) #블레이딩"
   ]
  },
  {
   "cell_type": "code",
   "execution_count": null,
   "id": "74ad52d5",
   "metadata": {},
   "outputs": [],
   "source": [
    "picture() #블레이딩 상태 촬영"
   ]
  },
  {
   "cell_type": "code",
   "execution_count": null,
   "id": "02e02a3f",
   "metadata": {},
   "outputs": [],
   "source": [
    "photo() #광 조사 또는 재블레이딩"
   ]
  },
  {
   "cell_type": "code",
   "execution_count": null,
   "id": "98bf6f08",
   "metadata": {},
   "outputs": [],
   "source": []
  },
  {
   "cell_type": "code",
   "execution_count": null,
   "id": "6f9f8ca7",
   "metadata": {},
   "outputs": [],
   "source": []
  },
  {
   "cell_type": "code",
   "execution_count": null,
   "id": "4f828553",
   "metadata": {},
   "outputs": [],
   "source": [
    "#1. serial16 연결\n",
    "serial16()"
   ]
  },
  {
   "cell_type": "code",
   "execution_count": null,
   "id": "9d4121bb",
   "metadata": {},
   "outputs": [],
   "source": [
    "#1-1. z축 리미트센서 터치(0,0,1)\n",
    "zhoming(ser16)"
   ]
  },
  {
   "cell_type": "code",
   "execution_count": null,
   "id": "52b87d5f",
   "metadata": {},
   "outputs": [],
   "source": [
    "#1-2. z축 블레이드 날이 닿는 위치로 이동(0,1,1)\n",
    "zgoing(ser16)"
   ]
  },
  {
   "cell_type": "code",
   "execution_count": null,
   "id": "092719f2",
   "metadata": {},
   "outputs": [],
   "source": [
    "#함수1-3.1 닿은 위치에서 일정거리 내리기(8,0,4800) --> 6mm\n",
    "littledown(ser16)"
   ]
  },
  {
   "cell_type": "code",
   "execution_count": null,
   "id": "8e0125b2",
   "metadata": {},
   "outputs": [],
   "source": [
    "#1-3.2. 닿은 위치에서 일정거리 내리기(8,0,4865) --> 10mm +0.085mm (서포트용)\n",
    "thcickdown1(ser16)"
   ]
  },
  {
   "cell_type": "code",
   "execution_count": null,
   "id": "a45e09da",
   "metadata": {},
   "outputs": [],
   "source": [
    "#함-3.3. 닿은 위치에서 일정거리 내리기(8,0,4840) --> 10mm +0.05mm (시편 출력용)\n",
    "thcickdown2(ser16)"
   ]
  },
  {
   "cell_type": "code",
   "execution_count": null,
   "id": "23340731",
   "metadata": {},
   "outputs": [],
   "source": [
    "#1-7. 블레이드 앞위치로 위치(0,1,1)\n",
    "bhoming(ser16)"
   ]
  },
  {
   "cell_type": "code",
   "execution_count": null,
   "id": "c5b9245b",
   "metadata": {},
   "outputs": [],
   "source": [
    "#1-5.  (7,0,8000) -->블레이드10mm 뒤로 이동\n",
    "littleback(ser16)"
   ]
  },
  {
   "cell_type": "code",
   "execution_count": null,
   "id": "2d84c041",
   "metadata": {
    "scrolled": true
   },
   "outputs": [],
   "source": [
    "#1-6. 시료주입\n",
    "resinshot(ser16)"
   ]
  },
  {
   "cell_type": "code",
   "execution_count": null,
   "id": "dcd859fb",
   "metadata": {},
   "outputs": [],
   "source": [
    "resinMS(ser16)"
   ]
  },
  {
   "cell_type": "code",
   "execution_count": null,
   "id": "d1340145",
   "metadata": {},
   "outputs": [],
   "source": [
    "#Rhoming(ser16)"
   ]
  },
  {
   "cell_type": "code",
   "execution_count": null,
   "id": "9779518a",
   "metadata": {},
   "outputs": [],
   "source": [
    "#1-8. 닿은 위치로 일정거리 올리기(8,1,4800) --> 6mm\n",
    "littleup(ser16)"
   ]
  },
  {
   "cell_type": "code",
   "execution_count": null,
   "id": "01d50fc9",
   "metadata": {},
   "outputs": [],
   "source": [
    "#1-9. 블레이딩(0,1,2)\n",
    "bgoing(ser16)"
   ]
  },
  {
   "cell_type": "code",
   "execution_count": null,
   "id": "ce249532",
   "metadata": {},
   "outputs": [],
   "source": [
    "#2-1. 사진찍기(매크로)\n",
    "picture() #블레이딩 상태 촬영"
   ]
  },
  {
   "cell_type": "code",
   "execution_count": null,
   "id": "81ee11de",
   "metadata": {},
   "outputs": [],
   "source": [
    "#3-1 ok--광경화  // not ok -- 3번으로 돌아가기\n",
    "photo() #광 조사 또는 재블레이딩"
   ]
  },
  {
   "cell_type": "code",
   "execution_count": null,
   "id": "7563a2b6",
   "metadata": {},
   "outputs": [],
   "source": [
    "#3. com3연결\n",
    "serial3()"
   ]
  },
  {
   "cell_type": "code",
   "execution_count": null,
   "id": "6262f760",
   "metadata": {},
   "outputs": [],
   "source": [
    "#포트3 시리얼 연결 클로즈\n",
    "close3()"
   ]
  },
  {
   "cell_type": "code",
   "execution_count": null,
   "id": "8803f9c8",
   "metadata": {},
   "outputs": [],
   "source": [
    "#포트16 시리얼 연결 클로즈\n",
    "close16()"
   ]
  },
  {
   "cell_type": "code",
   "execution_count": null,
   "id": "4cc2aa5d",
   "metadata": {},
   "outputs": [],
   "source": [
    "#미러로이드 오픈\n",
    "openapp()"
   ]
  },
  {
   "cell_type": "code",
   "execution_count": null,
   "id": "03e056b2",
   "metadata": {},
   "outputs": [],
   "source": [
    "ser16.close()"
   ]
  },
  {
   "cell_type": "code",
   "execution_count": null,
   "id": "5bc10126",
   "metadata": {},
   "outputs": [],
   "source": [
    "ser16.close()\n",
    "\n",
    "#3. com3연결\n",
    "serial3()\n",
    "\n",
    "ser3.write('7\\r\\n'.encode())\n",
    "\n",
    "ser3.close()"
   ]
  },
  {
   "cell_type": "code",
   "execution_count": null,
   "id": "b7f20371",
   "metadata": {},
   "outputs": [],
   "source": [
    "step = 0.00125"
   ]
  },
  {
   "cell_type": "code",
   "execution_count": null,
   "id": "57b837ad",
   "metadata": {},
   "outputs": [],
   "source": [
    "3200*step"
   ]
  },
  {
   "cell_type": "code",
   "execution_count": null,
   "id": "51f9e666",
   "metadata": {},
   "outputs": [],
   "source": [
    "print(ser16.write(b'8,1,4464'))"
   ]
  },
  {
   "cell_type": "code",
   "execution_count": null,
   "id": "72ef3872",
   "metadata": {},
   "outputs": [],
   "source": [
    "ser16 = serial.Serial('COM16', 9600)"
   ]
  },
  {
   "cell_type": "code",
   "execution_count": null,
   "id": "954330f5",
   "metadata": {},
   "outputs": [],
   "source": [
    "800"
   ]
  },
  {
   "cell_type": "code",
   "execution_count": null,
   "id": "5a667b12",
   "metadata": {},
   "outputs": [],
   "source": [
    "4464"
   ]
  }
 ],
 "metadata": {
  "kernelspec": {
   "display_name": "Python 3",
   "language": "python",
   "name": "python3"
  },
  "language_info": {
   "codemirror_mode": {
    "name": "ipython",
    "version": 3
   },
   "file_extension": ".py",
   "mimetype": "text/x-python",
   "name": "python",
   "nbconvert_exporter": "python",
   "pygments_lexer": "ipython3",
   "version": "3.8.8"
  }
 },
 "nbformat": 4,
 "nbformat_minor": 5
}
