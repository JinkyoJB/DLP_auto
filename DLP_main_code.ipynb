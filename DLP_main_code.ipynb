{
 "cells": [
  {
   "cell_type": "markdown",
   "id": "51e630b3",
   "metadata": {},
   "source": [
    "-첫 layer-\n",
    "\n",
    "1. python-arduino통신\n,"
    "2. z축 리미트센서 터치(0,0,1)\n",
    "3. z축 블레이드 날이 닿는 위치로 이동(0,1,1)\n",
    "4. 닿은 위치에서 일정거리 내리기(8,0,4800) --> 6mm\n",
    "5. 블레이드 앞위치로 위치(0,1,1)\n",
    "6. 블레이드 (7,0,8000) -->블레이드10mm 뒤로 이동\n",
    "7. 시료주입\n",
    "8. 블레이드 앞위치로 위치(0,1,1)\n",
    "9. 닿은 위치로 일정거리 올리기(8,1,4800) --> 6mm\n",
    "10. 블레이딩(0,1,2)\n",
    "11. 사진찍기(매크로)\n",
    "12. 상태확인 메세지\n",
    "13. ok--광경화  // not ok -- 3번으로 돌아가기\n",
    "\n",
    "-다음 레이어-\n",
    "\n",
    "14. 닿은 위치에서 '일정거리 + 경화두께(48step, 0.06mm)' 내리기(8,0,4848) --> 6.06mm\n",
    "15. 블레이드 앞위치로 위치(0,1,1)\n",
    "16. 블레이드 (7,0,8000) -->블레이드10mm 뒤로 이동\n",
    "17. 시료주입\n",
    "18. 블레이드 앞위치로 위치(0,1,1)\n",
    "19. 닿은 위치로 일정거리 올리기(8,1,4800) --> 6mm\n",
    "20. 블레이딩(0,1,2)\n",
    "21. 사진찍기(매크로)\n",
    "22. 상태확인 메세지\n",
    "23. ok--광경화  // not ok -- 4번으로 돌아가기"
   ]
  },
  {
   "cell_type": "code",
   "execution_count": 1,
   "id": "bc3ed03d",
   "metadata": {},
   "outputs": [],
   "source": [
    "#필요한 라이브러리를 import합니다.\n",
    "\n",
    "#매크로와 알림창을 위한 pyautogui\n",
    "import pyautogui as pag\n",
    "\n",
    "#아두이노와 시리얼 통신을 위한 serial\n",
    "import serial\n",
    "\n",
    "#시간간격을 두고 함수를 시행하기 위한 time\n",
    "import time"
   ]
  },
  {
   "cell_type": "code",
   "execution_count": 8,
   "id": "c0165e1c",
   "metadata": {},
   "outputs": [],
   "source": [
    "#아두이노와 시리얼 통신을 위한 코딩 / 통신대기 2초\n",
    "\n",
    "ser = serial.Serial('COM16', 9600)\n",
    "time.sleep(2)"
   ]
  },
  {
   "cell_type": "code",
   "execution_count": null,
   "id": "920fb04c",
   "metadata": {},
   "outputs": [],
   "source": [
    "# -첫 layer- )1. z축 리미트센서 터치(0,0,1)\n",
    "\n",
    "ser.write(b'0,0,1')\n",
    "obj = ser.readline()\n",
    "print(obj)"
   ]
  },
  {
   "cell_type": "code",
   "execution_count": null,
   "id": "67fd509d",
   "metadata": {},
   "outputs": [],
   "source": [
    "x, y = pag.position()\n",
    "print(x, y)"
   ]
  },
  {
   "cell_type": "code",
   "execution_count": 17,
   "id": "97882915",
   "metadata": {},
   "outputs": [],
   "source": [
    "def readUntilExitCode(ser, exitcode=b'*'):\n",
    "    readed = b''\n",
    "    while True:\n",
    "        data = ser.read()\n",
    "        print(data)\n",
    "        readed += data\n",
    "        if exitcode in data:\n",
    "            return readed[:1]"
   ]
  },
  {
   "cell_type": "code",
   "execution_count": 18,
   "id": "c00f6e1f",
   "metadata": {},
   "outputs": [
    {
     "name": "stdout",
     "output_type": "stream",
     "text": [
      "b'\\r'\n",
      "b'\\n'\n",
      "b'z'\n",
      "b'a'\n",
      "b'x'\n",
      "b'i'\n",
      "b's'\n",
      "b':'\n",
      "b'1'\n",
      "b'0'\n",
      "b'0'\n",
      "b'0'\n",
      "b's'\n",
      "b't'\n",
      "b'e'\n",
      "b'p'\n",
      "b' '\n",
      "b'u'\n",
      "b'p'\n",
      "b'\\r'\n",
      "b'\\n'\n",
      "b'*'\n"
     ]
    },
    {
     "data": {
      "text/plain": [
       "b'\\r\\nzaxis:1000step up\\r\\n'"
      ]
     },
     "execution_count": 18,
     "metadata": {},
     "output_type": "execute_result"
    }
   ],
   "source": [
    "ser.write(b'8,1,1000')\n",
    "readUntilExitCode(ser,b'*')\n"
   ]
  },
  {
   "cell_type": "code",
   "execution_count": 5,
   "id": "5bc10126",
   "metadata": {},
   "outputs": [],
   "source": [
    "ser.close();"
   ]
  },
  {
   "cell_type": "code",
   "execution_count": null,
   "id": "cee65cbc",
   "metadata": {},
   "outputs": [],
   "source": [
    "pag.moveRel(500,500)"
   ]
  },
  {
   "cell_type": "code",
   "execution_count": null,
   "id": "e9013f7b",
   "metadata": {},
   "outputs": [],
   "source": []
  },
  {
   "cell_type": "code",
   "execution_count": null,
   "id": "7f08a7d2",
   "metadata": {},
   "outputs": [],
   "source": []
  }
 ],
 "metadata": {
  "kernelspec": {
   "display_name": "Python 3",
   "language": "python",
   "name": "python3"
  },
  "language_info": {
   "codemirror_mode": {
    "name": "ipython",
    "version": 3
   },
   "file_extension": ".py",
   "mimetype": "text/x-python",
   "name": "python",
   "nbconvert_exporter": "python",
   "pygments_lexer": "ipython3",
   "version": "3.8.8"
  }
 },
 "nbformat": 4,
 "nbformat_minor": 5
}
